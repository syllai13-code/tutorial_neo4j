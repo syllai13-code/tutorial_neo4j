{
 "cells": [
  {
   "cell_type": "code",
   "execution_count": 1,
   "id": "2edf4a05",
   "metadata": {},
   "outputs": [
    {
     "data": {
      "text/html": [
       "<style>.container { width:100% !important; }</style>"
      ],
      "text/plain": [
       "<IPython.core.display.HTML object>"
      ]
     },
     "metadata": {},
     "output_type": "display_data"
    }
   ],
   "source": [
    "from IPython.display import display, HTML\n",
    "display(HTML(\"<style>.container { width:100% !important; }</style>\"))"
   ]
  },
  {
   "cell_type": "code",
   "execution_count": 5,
   "id": "46fb214f",
   "metadata": {},
   "outputs": [],
   "source": [
    "import pandas as pd\n",
    "import re\n",
    "import json\n",
    "import os\n",
    "from py2neo import Graph, Node, Relationship\n",
    "from datetime import datetime\n",
    "import networkx as nx\n",
    "from networkx.algorithms import bipartite\n",
    "import random"
   ]
  },
  {
   "cell_type": "markdown",
   "id": "2b7ae5b9",
   "metadata": {},
   "source": [
    "# Neo4j setup"
   ]
  },
  {
   "cell_type": "code",
   "execution_count": null,
   "id": "772f71da",
   "metadata": {},
   "outputs": [],
   "source": []
  },
  {
   "cell_type": "code",
   "execution_count": null,
   "id": "ba360e6e",
   "metadata": {},
   "outputs": [],
   "source": []
  },
  {
   "cell_type": "code",
   "execution_count": null,
   "id": "13dfc9c1",
   "metadata": {},
   "outputs": [],
   "source": []
  },
  {
   "cell_type": "code",
   "execution_count": 6,
   "id": "42cf8924",
   "metadata": {},
   "outputs": [],
   "source": [
    "#instantiate your graph\n",
    "graph = Graph()"
   ]
  },
  {
   "cell_type": "code",
   "execution_count": 8,
   "id": "ee9a41ee",
   "metadata": {},
   "outputs": [],
   "source": [
    "neo_import_directory = \"../neo4j/import/{}\""
   ]
  },
  {
   "cell_type": "code",
   "execution_count": null,
   "id": "1c76a1b7",
   "metadata": {},
   "outputs": [],
   "source": []
  },
  {
   "cell_type": "markdown",
   "id": "c78ed7bd",
   "metadata": {},
   "source": [
    "# Patient-Provider Edgelist "
   ]
  },
  {
   "cell_type": "markdown",
   "id": "f9ced244",
   "metadata": {},
   "source": [
    "### Generate data"
   ]
  },
  {
   "cell_type": "code",
   "execution_count": 29,
   "id": "62d2bff4",
   "metadata": {},
   "outputs": [],
   "source": [
    "def gen_relationship(row):\n",
    "    \"\"\"\n",
    "    generate a row (relationship between a patient and a provider)\n",
    "    \n",
    "    optionally generate 3 files to avoid duplication of data across rows:\n",
    "    relationships.csv: [patientid, weight, providerid]\n",
    "    patient_demographic.csv: [patientid, age, gender, etc]\n",
    "    provider_details.csv: [providerid, specialty, etc]\n",
    "    \"\"\"\n",
    "    row['gender'] = random.choices(['F','M'], weights=(.55,.45), k=1)[0]\n",
    "    row['age'] = random.randint(20,80)\n",
    "    row['weight'] = random.choices([1,2,3,4,5,6,10,20], weights=(.3, .2, .1, .1,.05,.05,.025, .01 ), k=1)[0]\n",
    "    row['specialty'] = random.choices(['RN','PA', 'PCP', 'Psych', 'cardiologist', 'radiologist'], weights=(.3, .1, .3, .1, .1,.1), k=1)[0]\n",
    "    row['patient_id'] = random.randint(0,2000)\n",
    "    row['provider_id'] = random.randint(2001,2050)\n",
    "    #row['icd'] = random.choices([list of icd codes], weights=(.55,.45), k=1)[random.randint(0,4)]\n",
    "    #cost if desired\n",
    "    return row\n",
    "\n",
    "def gen_relationships_data(nrelationships):\n",
    "    columns = ['patient_id','gender', 'provider_id', 'weight','specialty'] \n",
    "    df_claims = pd.DataFrame(index=range(nrelationships), columns=columns)\n",
    "    df_claims = df_claims.apply(gen_relationship, axis=1)\n",
    "    return df_claims\n",
    "    "
   ]
  },
  {
   "cell_type": "code",
   "execution_count": 30,
   "id": "76032b8f",
   "metadata": {},
   "outputs": [],
   "source": [
    "df_claims = gen_relationships_data(5000)"
   ]
  },
  {
   "cell_type": "code",
   "execution_count": 16,
   "id": "d9f674d3",
   "metadata": {},
   "outputs": [
    {
     "data": {
      "text/html": [
       "<div>\n",
       "<style scoped>\n",
       "    .dataframe tbody tr th:only-of-type {\n",
       "        vertical-align: middle;\n",
       "    }\n",
       "\n",
       "    .dataframe tbody tr th {\n",
       "        vertical-align: top;\n",
       "    }\n",
       "\n",
       "    .dataframe thead th {\n",
       "        text-align: right;\n",
       "    }\n",
       "</style>\n",
       "<table border=\"1\" class=\"dataframe\">\n",
       "  <thead>\n",
       "    <tr style=\"text-align: right;\">\n",
       "      <th></th>\n",
       "      <th>patient_id</th>\n",
       "      <th>gender</th>\n",
       "      <th>provider_id</th>\n",
       "      <th>weight</th>\n",
       "      <th>specialty</th>\n",
       "      <th>age</th>\n",
       "    </tr>\n",
       "  </thead>\n",
       "  <tbody>\n",
       "    <tr>\n",
       "      <th>0</th>\n",
       "      <td>922</td>\n",
       "      <td>F</td>\n",
       "      <td>2001</td>\n",
       "      <td>10</td>\n",
       "      <td>PCP</td>\n",
       "      <td>59</td>\n",
       "    </tr>\n",
       "    <tr>\n",
       "      <th>1</th>\n",
       "      <td>1907</td>\n",
       "      <td>M</td>\n",
       "      <td>2012</td>\n",
       "      <td>5</td>\n",
       "      <td>cardiologist</td>\n",
       "      <td>75</td>\n",
       "    </tr>\n",
       "    <tr>\n",
       "      <th>2</th>\n",
       "      <td>59</td>\n",
       "      <td>M</td>\n",
       "      <td>2038</td>\n",
       "      <td>6</td>\n",
       "      <td>RN</td>\n",
       "      <td>28</td>\n",
       "    </tr>\n",
       "    <tr>\n",
       "      <th>3</th>\n",
       "      <td>1242</td>\n",
       "      <td>M</td>\n",
       "      <td>2027</td>\n",
       "      <td>3</td>\n",
       "      <td>RN</td>\n",
       "      <td>54</td>\n",
       "    </tr>\n",
       "    <tr>\n",
       "      <th>4</th>\n",
       "      <td>418</td>\n",
       "      <td>M</td>\n",
       "      <td>2047</td>\n",
       "      <td>4</td>\n",
       "      <td>radiologist</td>\n",
       "      <td>69</td>\n",
       "    </tr>\n",
       "  </tbody>\n",
       "</table>\n",
       "</div>"
      ],
      "text/plain": [
       "   patient_id gender  provider_id  weight     specialty  age\n",
       "0         922      F         2001      10           PCP   59\n",
       "1        1907      M         2012       5  cardiologist   75\n",
       "2          59      M         2038       6            RN   28\n",
       "3        1242      M         2027       3            RN   54\n",
       "4         418      M         2047       4   radiologist   69"
      ]
     },
     "execution_count": 16,
     "metadata": {},
     "output_type": "execute_result"
    }
   ],
   "source": [
    "df_claims.head()"
   ]
  },
  {
   "cell_type": "code",
   "execution_count": 17,
   "id": "7edb50c5",
   "metadata": {},
   "outputs": [
    {
     "data": {
      "text/plain": [
       "specialty\n",
       "RN              1522\n",
       "PCP             1481\n",
       "PA               517\n",
       "cardiologist     516\n",
       "radiologist      484\n",
       "Psych            480\n",
       "Name: count, dtype: int64"
      ]
     },
     "execution_count": 17,
     "metadata": {},
     "output_type": "execute_result"
    }
   ],
   "source": [
    "df_claims.specialty.value_counts()"
   ]
  },
  {
   "cell_type": "code",
   "execution_count": 18,
   "id": "3145cca5",
   "metadata": {},
   "outputs": [],
   "source": [
    "#save this to neo4j import directory to eventually load into database\n",
    "df_claims.to_csv('../neo4j/import/claims_edgelist.csv', index=0)"
   ]
  },
  {
   "cell_type": "code",
   "execution_count": 155,
   "id": "1ff0c992",
   "metadata": {},
   "outputs": [],
   "source": []
  },
  {
   "cell_type": "code",
   "execution_count": 149,
   "id": "6030a2b8",
   "metadata": {},
   "outputs": [],
   "source": []
  },
  {
   "cell_type": "markdown",
   "id": "e845942d",
   "metadata": {},
   "source": [
    "# Provider - Provider Projected "
   ]
  },
  {
   "cell_type": "markdown",
   "id": "e1125b54",
   "metadata": {},
   "source": [
    "### Helpers"
   ]
  },
  {
   "cell_type": "code",
   "execution_count": 19,
   "id": "7bc2985b",
   "metadata": {},
   "outputs": [],
   "source": [
    "#REMOVE NODES - REDUCE GRAPH\n",
    "def remove_zero_deg_nodes(G):\n",
    "    df_degr_w=pd.DataFrame.from_dict(dict(G.degree(weight='weight')),orient='index')\n",
    "    df_degr_w_zeros=df_degr_w.loc[df_degr_w[0] == 0]\n",
    "    G.remove_nodes_from(list(df_degr_w_zeros.index))\n",
    "    df_degr_w_nzeros=df_degr_w.loc[df_degr_w[0]>0]\n",
    "    return G, df_degr_w_nzeros\n",
    "\n",
    "def get_bipartite_graph_from_df(df,columns):  # generate bipartite network:\n",
    "    # I need to check the impact of the function on the graph directionality\n",
    "    # columns format: columns=[colname1, colname2, weightname] %weight is not necessary\n",
    "    start = datetime.now()\n",
    "    if len(columns)==2:\n",
    "        B=nx.from_pandas_edgelist(df, columns[0], columns[1])\n",
    "    elif len(columns)==3:\n",
    "        B=nx.from_pandas_edgelist(df, columns[0], columns[1], edge_attr=columns[2]) # check if directed or undirected\n",
    "    proj_nodes = set(df[columns[1]])\n",
    "    difference=datetime.now()-start\n",
    "    print ('time to generate bi-graph: ' + str(difference.seconds) + ' seconds')\n",
    "    return B, proj_nodes\n",
    "\n",
    "def get_projected_graph(B,proj_nodes,remove_zeros=True): #using nx\n",
    "    start = datetime.now()\n",
    "    G=bipartite.weighted_projected_graph(B, proj_nodes)\n",
    "    if remove_zeros:\n",
    "        G, df_degr_w=remove_zero_deg_nodes(G)\n",
    "    diff_graph=datetime.now()-start\n",
    "    print ('time to generate projected graph: ' + str(diff_graph.seconds) + ' seconds')\n",
    "    return G\n",
    "\n",
    "def project_edgelist(df_edgelist):\n",
    "    print('Projecting...')\n",
    "    \n",
    "    projected_file = 'projected_edgelist.csv'\n",
    "    provider_details = df_edgelist.set_index('provider_id')['specialty'].to_dict()\n",
    "    \n",
    "    def add_specialties(row):\n",
    "        row['sourcespec'] = provider_details[row['source']] #if row['source'] in provider_details else 'patient'\n",
    "        row['targetspec'] = provider_details[row['target']] #if row['target'] in provider_details else 'patient'\n",
    "        return row\n",
    "\n",
    "    cols = ['patient_id', 'provider_id']\n",
    "    bipartite_graph, proj_nodes = get_bipartite_graph_from_df(df_edgelist,cols)\n",
    "    G = get_projected_graph(bipartite_graph,proj_nodes)\n",
    "    \n",
    "    nx.write_weighted_edgelist(G, neo_import_directory.format('projected_edgelist_temp.csv')) #can load in current dir and delete after\n",
    "    claims_projected_el = pd.read_csv(neo_import_directory.format('projected_edgelist_temp.csv'), names = ['source', 'target', 'weight'], sep=' ')\n",
    "    claims_projected_el = claims_projected_el[claims_projected_el['target'].isin(proj_nodes)]\n",
    "    claims_projected_el = claims_projected_el.apply(add_specialties, axis=1)\n",
    "    claims_projected_el['normweight'] = ((claims_projected_el['weight'] - claims_projected_el[\"weight\"].min() ) /(claims_projected_el[\"weight\"].max()-claims_projected_el[\"weight\"].min()))*10\n",
    "    claims_projected_el.to_csv(neo_import_directory.format(projected_file), index=False)\n",
    "\n",
    "    return claims_projected_el\n"
   ]
  },
  {
   "cell_type": "code",
   "execution_count": 20,
   "id": "08b4a8e6",
   "metadata": {
    "scrolled": true
   },
   "outputs": [
    {
     "name": "stdout",
     "output_type": "stream",
     "text": [
      "Projecting...\n",
      "time to generate bi-graph: 0 seconds\n",
      "time to generate projected graph: 0 seconds\n"
     ]
    }
   ],
   "source": [
    "df_projected_graph = project_edgelist(df_claims)\n"
   ]
  },
  {
   "cell_type": "code",
   "execution_count": 21,
   "id": "07fb527a",
   "metadata": {},
   "outputs": [
    {
     "data": {
      "text/html": [
       "<div>\n",
       "<style scoped>\n",
       "    .dataframe tbody tr th:only-of-type {\n",
       "        vertical-align: middle;\n",
       "    }\n",
       "\n",
       "    .dataframe tbody tr th {\n",
       "        vertical-align: top;\n",
       "    }\n",
       "\n",
       "    .dataframe thead th {\n",
       "        text-align: right;\n",
       "    }\n",
       "</style>\n",
       "<table border=\"1\" class=\"dataframe\">\n",
       "  <thead>\n",
       "    <tr style=\"text-align: right;\">\n",
       "      <th></th>\n",
       "      <th>source</th>\n",
       "      <th>target</th>\n",
       "      <th>weight</th>\n",
       "      <th>sourcespec</th>\n",
       "      <th>targetspec</th>\n",
       "      <th>normweight</th>\n",
       "    </tr>\n",
       "  </thead>\n",
       "  <tbody>\n",
       "    <tr>\n",
       "      <th>0</th>\n",
       "      <td>2048</td>\n",
       "      <td>2049</td>\n",
       "      <td>4</td>\n",
       "      <td>PCP</td>\n",
       "      <td>RN</td>\n",
       "      <td>2.5</td>\n",
       "    </tr>\n",
       "    <tr>\n",
       "      <th>1</th>\n",
       "      <td>2048</td>\n",
       "      <td>2050</td>\n",
       "      <td>4</td>\n",
       "      <td>PCP</td>\n",
       "      <td>RN</td>\n",
       "      <td>2.5</td>\n",
       "    </tr>\n",
       "    <tr>\n",
       "      <th>2</th>\n",
       "      <td>2048</td>\n",
       "      <td>2001</td>\n",
       "      <td>7</td>\n",
       "      <td>PCP</td>\n",
       "      <td>PA</td>\n",
       "      <td>5.0</td>\n",
       "    </tr>\n",
       "    <tr>\n",
       "      <th>3</th>\n",
       "      <td>2048</td>\n",
       "      <td>2002</td>\n",
       "      <td>4</td>\n",
       "      <td>PCP</td>\n",
       "      <td>cardiologist</td>\n",
       "      <td>2.5</td>\n",
       "    </tr>\n",
       "    <tr>\n",
       "      <th>4</th>\n",
       "      <td>2048</td>\n",
       "      <td>2003</td>\n",
       "      <td>4</td>\n",
       "      <td>PCP</td>\n",
       "      <td>PCP</td>\n",
       "      <td>2.5</td>\n",
       "    </tr>\n",
       "  </tbody>\n",
       "</table>\n",
       "</div>"
      ],
      "text/plain": [
       "   source  target  weight sourcespec    targetspec  normweight\n",
       "0    2048    2049       4        PCP            RN         2.5\n",
       "1    2048    2050       4        PCP            RN         2.5\n",
       "2    2048    2001       7        PCP            PA         5.0\n",
       "3    2048    2002       4        PCP  cardiologist         2.5\n",
       "4    2048    2003       4        PCP           PCP         2.5"
      ]
     },
     "execution_count": 21,
     "metadata": {},
     "output_type": "execute_result"
    }
   ],
   "source": [
    "df_projected_graph.head()"
   ]
  },
  {
   "cell_type": "code",
   "execution_count": 22,
   "id": "bd794784",
   "metadata": {},
   "outputs": [
    {
     "data": {
      "text/html": [
       "<div>\n",
       "<style scoped>\n",
       "    .dataframe tbody tr th:only-of-type {\n",
       "        vertical-align: middle;\n",
       "    }\n",
       "\n",
       "    .dataframe tbody tr th {\n",
       "        vertical-align: top;\n",
       "    }\n",
       "\n",
       "    .dataframe thead th {\n",
       "        text-align: right;\n",
       "    }\n",
       "</style>\n",
       "<table border=\"1\" class=\"dataframe\">\n",
       "  <thead>\n",
       "    <tr style=\"text-align: right;\">\n",
       "      <th></th>\n",
       "      <th>source</th>\n",
       "      <th>target</th>\n",
       "      <th>weight</th>\n",
       "      <th>sourcespec</th>\n",
       "      <th>targetspec</th>\n",
       "      <th>normweight</th>\n",
       "    </tr>\n",
       "  </thead>\n",
       "  <tbody>\n",
       "    <tr>\n",
       "      <th>0</th>\n",
       "      <td>2048</td>\n",
       "      <td>2049</td>\n",
       "      <td>4</td>\n",
       "      <td>PCP</td>\n",
       "      <td>RN</td>\n",
       "      <td>2.5</td>\n",
       "    </tr>\n",
       "    <tr>\n",
       "      <th>1</th>\n",
       "      <td>2048</td>\n",
       "      <td>2050</td>\n",
       "      <td>4</td>\n",
       "      <td>PCP</td>\n",
       "      <td>RN</td>\n",
       "      <td>2.5</td>\n",
       "    </tr>\n",
       "    <tr>\n",
       "      <th>2</th>\n",
       "      <td>2048</td>\n",
       "      <td>2001</td>\n",
       "      <td>7</td>\n",
       "      <td>PCP</td>\n",
       "      <td>PA</td>\n",
       "      <td>5.0</td>\n",
       "    </tr>\n",
       "    <tr>\n",
       "      <th>3</th>\n",
       "      <td>2048</td>\n",
       "      <td>2002</td>\n",
       "      <td>4</td>\n",
       "      <td>PCP</td>\n",
       "      <td>cardiologist</td>\n",
       "      <td>2.5</td>\n",
       "    </tr>\n",
       "    <tr>\n",
       "      <th>4</th>\n",
       "      <td>2048</td>\n",
       "      <td>2003</td>\n",
       "      <td>4</td>\n",
       "      <td>PCP</td>\n",
       "      <td>PCP</td>\n",
       "      <td>2.5</td>\n",
       "    </tr>\n",
       "  </tbody>\n",
       "</table>\n",
       "</div>"
      ],
      "text/plain": [
       "   source  target  weight sourcespec    targetspec  normweight\n",
       "0    2048    2049       4        PCP            RN         2.5\n",
       "1    2048    2050       4        PCP            RN         2.5\n",
       "2    2048    2001       7        PCP            PA         5.0\n",
       "3    2048    2002       4        PCP  cardiologist         2.5\n",
       "4    2048    2003       4        PCP           PCP         2.5"
      ]
     },
     "execution_count": 22,
     "metadata": {},
     "output_type": "execute_result"
    }
   ],
   "source": [
    "projected = pd.read_csv('../neo4j/import/projected_edgelist.csv')\n",
    "projected.head()"
   ]
  },
  {
   "cell_type": "code",
   "execution_count": null,
   "id": "b0ade33e",
   "metadata": {},
   "outputs": [],
   "source": []
  },
  {
   "cell_type": "markdown",
   "id": "8987e1f6",
   "metadata": {},
   "source": [
    "# Neo4j Queries "
   ]
  },
  {
   "cell_type": "code",
   "execution_count": 23,
   "id": "6ee82121",
   "metadata": {},
   "outputs": [],
   "source": [
    "#instantiate graph\n",
    "graph = Graph()"
   ]
  },
  {
   "cell_type": "code",
   "execution_count": 24,
   "id": "ea276a41",
   "metadata": {},
   "outputs": [
    {
     "data": {
      "text/plain": [
       "Graph('bolt://localhost:7687')"
      ]
     },
     "execution_count": 24,
     "metadata": {},
     "output_type": "execute_result"
    }
   ],
   "source": [
    "#enter in your browser to access database http://localhost:7474/\n",
    "graph "
   ]
  },
  {
   "cell_type": "code",
   "execution_count": 25,
   "id": "c8cca34f",
   "metadata": {},
   "outputs": [],
   "source": [
    "def load_data(projected):\n",
    "    \n",
    "    load_basic_query = \"\"\"\n",
    "    LOAD CSV WITH HEADERS FROM 'file:///claims_edgelist.csv' AS line\n",
    "    WITH line\n",
    "    MERGE (patient:Patient{name:line.patient_id, gender:line.gender, age:line.age, type:'patient'})\n",
    "    MERGE (provider:Provider{name:line.provider_id, specialty:line.specialty, type:'provider'})\n",
    "    MERGE (provider)-[:TREATED {weight:toInteger(line.weight) }]-> (patient)\n",
    "    \"\"\"\n",
    "    \n",
    "    #TREATED edge can contain multiple properties: ex number of visits, costs, etc \n",
    "    #MERGE (provider)-[:treated {weight:line.normweight,cost:line.pay }]-> (patient)\n",
    "\n",
    "    load_projected_query = \"\"\"\n",
    "    LOAD CSV WITH HEADERS FROM 'file:///projected_edgelist.csv' AS line\n",
    "    WITH line\n",
    "    MERGE (providera:Provider{name:line.source, specialty:line.sourcespec})\n",
    "    MERGE (providerb:Provider{name:line.target, specialty:line.targetspec})\n",
    "    MERGE (providera)-[:SHARED_WITH {weight:toInteger(line.normweight)}]-> (providerb)\n",
    "    \"\"\"\n",
    "    if projected:\n",
    "        graph.run(load_projected_query)\n",
    "    else:\n",
    "        graph.run(load_basic_query)\n",
    "    \n",
    "\n",
    "def list_graphs():\n",
    "    query = \"\"\"\n",
    "    CALL gds.graph.list()\n",
    "    YIELD graphName, nodeCount, relationshipCount\n",
    "    RETURN graphName, nodeCount, relationshipCount\n",
    "    ORDER BY graphName ASC\n",
    "    \"\"\"\n",
    "    graphs_dict_list = graph.run(query).data()\n",
    "    graphs_list = [graph['graphName'] for graph in graphs_dict_list]\n",
    "    return graphs_list\n",
    "    \n",
    "def delete_elements():\n",
    "    \"\"\"\n",
    "    query & delete all elements\n",
    "    \"\"\"\n",
    "    query = \"\"\"\n",
    "    MATCH (n)\n",
    "    DETACH DELETE n\n",
    "    \"\"\"\n",
    "    graph.run(query)\n",
    "\n",
    "def remove_graph(graphs):\n",
    "    \"\"\"\n",
    "    graphs: list of existing graphs\n",
    "    delete each\n",
    "    \"\"\"\n",
    "    for g in graphs:\n",
    "        query = \"\"\"\n",
    "        CALL gds.graph.drop('{}') YIELD graphName;\n",
    "        \"\"\".format(g)\n",
    "        graph.run(query)\n",
    "    \n",
    "def clean_up():\n",
    "    \"\"\"\n",
    "    delete all existing nodes, relationships, and graphs\n",
    "    \"\"\"\n",
    "    graphs = list_graphs()\n",
    "    delete_elements()\n",
    "    remove_graph(graphs)\n",
    "\n",
    "    \n",
    "def create_graph_projection(gname):\n",
    "    \"\"\"\n",
    "    formally creates a graph that can be referenced using the graph's name\n",
    "    provide:\n",
    "    graphname\n",
    "    nodes to include in graph\n",
    "    relationship (edge connecting the nodes) & direction of relationship, and value (property)\n",
    "    \n",
    "    direction:\n",
    "    Provider1 - treated > Patient1 \n",
    "    natural: Provider1: 1 Patient1: 0 \n",
    "    reversed: Provider1: 0 Patient1: 1 \n",
    "    undirected: Provider1: 1 Patient1: 1 \n",
    "    \"\"\"\n",
    "    query = \"\"\"    \n",
    "        CALL gds.graph.project(\n",
    "        \"{}\",\n",
    "        [\"Patient\", \"Provider\"],\n",
    "        {TREATED: {orientation: \"UNDIRECTED\",properties: [\"weight\"]}}\n",
    "        )\n",
    "    \"\"\".format(gname)\n",
    "\n",
    "    #natural, reversed, undirected\n",
    "    graph.run(query)\n",
    "    \n",
    "def write_degrees_gds(gname):\n",
    "    \"\"\"\n",
    "    Given graph, write degree property for each node based on direction of relationship\n",
    "    use GDS library \n",
    "    \"\"\"\n",
    "    query = \"\"\"\n",
    "    CALL gds.degree.write('{}', { writeProperty: 'degree' })\n",
    "    \"\"\".format(gname)\n",
    "    graph.run(query)\n",
    "\n",
    "def write_degrees(patient):\n",
    "    \"\"\"\n",
    "    Cypher/query to manually write a node's undirected degree (same as GDS implementation)\n",
    "    can rewrite to be more flexible - pass in node types, relationships \n",
    "    to generate specific degrees based on nodes involved\n",
    "    example: \n",
    "    patient can have specialty_degree, nurse_degree, hospital_degree indicating\n",
    "    number of specialists, nurses, hospitals visited\n",
    "    \n",
    "    Or degree as number of similar patients patientx's PCP has seen\n",
    "    \"\"\"\n",
    "    patient_query =\"\"\"\n",
    "      MATCH (provider : Provider)-[: TREATED]-> (patient : Patient)\n",
    "      with patient, COUNT(DISTINCT provider) AS pat_degree\n",
    "      SET patient.pat_degree = pat_degree\n",
    "    \"\"\"\n",
    "    \n",
    "    #treated degree - optionally, can have a shared_with degree\n",
    "    provider_query =\"\"\"\n",
    "      MATCH (provider : Provider)-[: TREATED]-> (patient : Patient)\n",
    "      with provider, COUNT(DISTINCT patient) AS prov_degree\n",
    "      SET provider.prov_degree = prov_degree\n",
    "    \"\"\"    \n",
    "    graph.run(patient_query) if patient else graph.run(provider_query)\n",
    "    #graph.run(query)"
   ]
  },
  {
   "cell_type": "code",
   "execution_count": null,
   "id": "aca7cff7",
   "metadata": {},
   "outputs": [],
   "source": [
    "\"\"\"\n",
    "graphs_list =list_graphs()\n",
    "graphs_list\n",
    "clean_up()\n",
    "load_data(projected = 0)\n",
    "create_graph_projection()\n",
    "list_graphs()\n",
    "write_degrees_gds()\n",
    "write_degrees_()\n",
    "\"\"\"\n"
   ]
  },
  {
   "cell_type": "markdown",
   "id": "eb6fe4cd",
   "metadata": {},
   "source": [
    "#### list graphs"
   ]
  },
  {
   "cell_type": "code",
   "execution_count": 26,
   "id": "c451caa9",
   "metadata": {},
   "outputs": [
    {
     "data": {
      "text/plain": [
       "[]"
      ]
     },
     "execution_count": 26,
     "metadata": {},
     "output_type": "execute_result"
    }
   ],
   "source": [
    "graphs_list =list_graphs()\n",
    "graphs_list"
   ]
  },
  {
   "cell_type": "markdown",
   "id": "43934be0",
   "metadata": {},
   "source": [
    "#### clean up"
   ]
  },
  {
   "cell_type": "code",
   "execution_count": 27,
   "id": "3cd92f9b",
   "metadata": {},
   "outputs": [],
   "source": [
    "clean_up()"
   ]
  },
  {
   "cell_type": "markdown",
   "id": "72efa0f1",
   "metadata": {},
   "source": [
    "#### load data to neo4j"
   ]
  },
  {
   "cell_type": "code",
   "execution_count": 28,
   "id": "aabe1a6d",
   "metadata": {},
   "outputs": [],
   "source": [
    "load_data(projected = 0)\n",
    "load_data(projected = 1)"
   ]
  },
  {
   "cell_type": "code",
   "execution_count": null,
   "id": "2f8fb568",
   "metadata": {},
   "outputs": [],
   "source": []
  },
  {
   "cell_type": "code",
   "execution_count": null,
   "id": "146a67ea",
   "metadata": {},
   "outputs": [],
   "source": [
    "#Create graph called patient_provider_graphmygraph\n",
    "\"\"\"    \n",
    "CALL gds.graph.project(\n",
    "    \"patient_provider_graph\",\n",
    "    [\"Patient\", \"Provider\"],\n",
    "    {TREATED: {orientation: \"UNDIRECTED\",properties: [\"weight\"]}}\n",
    ")\n",
    "\"\"\"\n",
    "\n",
    "\"\"\"    \n",
    "CALL gds.graph.project(\n",
    "    \"providers_graph\",\n",
    "    [\"Provider\"],\n",
    "    {SHARED_WITH: {orientation: \"UNDIRECTED\",properties: [\"weight\"]}}\n",
    ")\n",
    "\"\"\"\n"
   ]
  },
  {
   "cell_type": "code",
   "execution_count": 81,
   "id": "8272c1e4",
   "metadata": {},
   "outputs": [
    {
     "data": {
      "text/plain": [
       "['patient_provider_graph', 'providers_graph']"
      ]
     },
     "execution_count": 81,
     "metadata": {},
     "output_type": "execute_result"
    }
   ],
   "source": [
    "list_graphs()"
   ]
  },
  {
   "cell_type": "markdown",
   "id": "6822a10b",
   "metadata": {},
   "source": [
    "#### write degrees using GDS"
   ]
  },
  {
   "cell_type": "code",
   "execution_count": 44,
   "id": "e394a08d",
   "metadata": {},
   "outputs": [],
   "source": [
    "#write degrees\n",
    "\"\"\"\n",
    "CALL gds.degree.write('patient_provider_graph', { writeProperty: 'degree' })\n",
    "\"\"\"\n",
    "\n",
    "\"\"\"\n",
    "CALL gds.degree.write('providers_graph', { writeProperty: 'degree' })\n",
    "\"\"\""
   ]
  },
  {
   "cell_type": "markdown",
   "id": "25fab370",
   "metadata": {},
   "source": [
    "#### write degrees using cypher"
   ]
  },
  {
   "cell_type": "code",
   "execution_count": 83,
   "id": "e0d661cf",
   "metadata": {},
   "outputs": [],
   "source": [
    "#more flexible degrees\n",
    "write_degrees(patient=1)\n",
    "write_degrees(patient=0)"
   ]
  },
  {
   "cell_type": "markdown",
   "id": "65ce9f62",
   "metadata": {},
   "source": [
    "## Cyphers"
   ]
  },
  {
   "cell_type": "code",
   "execution_count": null,
   "id": "c4cf59e4",
   "metadata": {},
   "outputs": [],
   "source": [
    "\"\"\"\n",
    "#patients with most connections\n",
    "MATCH (pa:Patient)\n",
    "WITH  max(pa.pat_degree) AS maximum\n",
    "MATCH ((pr:Provider)-[:TREATED]->(pa:Patient))\n",
    "WHERE pa.pat_degree = maximum\n",
    "RETURN pa;\n",
    "\n",
    "#patients w/ most connections and associated providers\n",
    "MATCH (pa:Patient)\n",
    "WITH  max(pa.pat_degree) AS maximum\n",
    "MATCH ((pr:Provider)-[:TREATED]->(pa:Patient))\n",
    "WHERE pa.pat_degree = maximum\n",
    "RETURN pa, pr;\n",
    "\n",
    "\n",
    "MATCH ((provider1:Provider)-[:TREATED]-(pa:Patient)-[:TREATED]-(pr2:Provider))\n",
    "return pr,pa, pr2;\n",
    "\n",
    "#rns\n",
    "MATCH (p:Provider {specialty: \"RN\"}) \n",
    "RETURN p;\n",
    "\n",
    "#RNs and their patients\n",
    "MATCH (ph:Provider)-[r:TREATED]->(pa:Patient)\n",
    "WHERE ph.specialty = \"RN\"\n",
    "with pa\n",
    "MATCH (pa:Patient)<-[r:TREATED]-(ph:Provider)\n",
    "RETURN pa, ph;\n",
    "\n",
    "#max degree provider w/ patients\n",
    "MATCH (pr:Provider)\n",
    "WITH  max(pr.degree_test) AS maximum\n",
    "MATCH ((pr:Provider)-[:TREATED]-(pa:Patient))\n",
    "WHERE pr.degree_test = maximum\n",
    "RETURN pr, pa;\n",
    "\n",
    "#max degree provider w/ patients\n",
    "MATCH (pr:Provider)\n",
    "WITH  max(pr.degree_test) AS maximum\n",
    "MATCH ((pr:Provider)-[:TREATED]-(pa:Patient))\n",
    "with pa, pr, maximum\n",
    "MATCH (pa:Patient)<-[r:TREATED]-()\n",
    "WHERE pr.degree_test = maximum\n",
    "RETURN pr, pa, r;\n",
    "\n",
    "#sharing\n",
    "MATCH ((pr:Provider)-[:TREATED]-(pa:Patient)-[:TREATED]-(pr2:Provider))\n",
    "return pr,pa, pr2;\n",
    "\n",
    "#patient sharing by specialty\n",
    "MATCH ((pha:Provider)-[:TREATED]-(Patient)<-[TREATED]-(phb:Provider)) \n",
    "WHERE pha.specialty = \"RN\" and phb.specialty = \"Psych\"\n",
    "RETURN pha, Patient, phb;\n",
    "\n",
    "\n",
    "MATCH (x)-[:A]->(z:Z), (y:Y)\n",
    "MERGE (y)-[:B]->(z)\n",
    "\n",
    "#projection\n",
    "MATCH ((pr:Provider)-[:TREATED]-(pa:Patient)-[:TREATED]-(pr2:Provider))\n",
    "MERGE (pr)-[:COLLABS_WITH]-(pr2)\n",
    "\n",
    "\n",
    "\"\"\""
   ]
  },
  {
   "cell_type": "code",
   "execution_count": null,
   "id": "df885cdb",
   "metadata": {},
   "outputs": [],
   "source": []
  },
  {
   "cell_type": "code",
   "execution_count": null,
   "id": "6a686189",
   "metadata": {},
   "outputs": [],
   "source": []
  },
  {
   "cell_type": "code",
   "execution_count": null,
   "id": "f45bf2de",
   "metadata": {},
   "outputs": [],
   "source": []
  }
 ],
 "metadata": {
  "kernelspec": {
   "display_name": "neo4j_venv",
   "language": "python",
   "name": "neo4j_venv"
  },
  "language_info": {
   "codemirror_mode": {
    "name": "ipython",
    "version": 3
   },
   "file_extension": ".py",
   "mimetype": "text/x-python",
   "name": "python",
   "nbconvert_exporter": "python",
   "pygments_lexer": "ipython3",
   "version": "3.9.12"
  }
 },
 "nbformat": 4,
 "nbformat_minor": 5
}
